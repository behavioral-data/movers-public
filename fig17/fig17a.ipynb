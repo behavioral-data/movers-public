{
 "cells": [
  {
   "cell_type": "code",
   "execution_count": 1,
   "metadata": {
    "tags": []
   },
   "outputs": [],
   "source": [
    "import numpy as np\n",
    "import matplotlib\n",
    "import matplotlib.pyplot as plt\n",
    "%matplotlib inline\n",
    "import pandas as pd\n",
    "import datetime\n",
    "import glob\n",
    "\n",
    "import os\n",
    "# import cPickle as pickle\n",
    "\n",
    "import seaborn as sns\n",
    "sns.set_style(\"whitegrid\")"
   ]
  },
  {
   "cell_type": "code",
   "execution_count": 2,
   "metadata": {
    "tags": []
   },
   "outputs": [],
   "source": [
    "def generate_default_plot_env():\n",
    "    sns.set(font_scale=1.4, style=\"whitegrid\")\n",
    "    matplotlib.rcParams['pdf.fonttype'] = 42\n",
    "    matplotlib.rcParams['ps.fonttype'] = 42\n",
    "    matplotlib.rc('font', family='sans-serif') \n",
    "    matplotlib.rc('font', serif='Helvetica Neue') \n",
    "    matplotlib.rc('text', usetex='false') \n",
    "    matplotlib.rcParams.update({'font.size': 22})\n",
    "    \n",
    "    plt.rcParams['pdf.fonttype'] = 42\n",
    "    plt.rcParams['ps.fonttype'] = 42\n",
    "    plt.rc('font', family='sans-serif') \n",
    "    plt.rc('font', serif='Helvetica Neue') \n",
    "    plt.rc('text', usetex='false') \n",
    "    plt.rcParams.update({'font.size': 22})\n",
    "\n",
    "generate_default_plot_env()"
   ]
  },
  {
   "cell_type": "code",
   "execution_count": 3,
   "metadata": {
    "tags": []
   },
   "outputs": [],
   "source": [
    "scatter_df = pd.read_csv(\"../data/hours_used_diff.csv\", header=[0, 1])"
   ]
  },
  {
   "cell_type": "code",
   "execution_count": 4,
   "metadata": {
    "tags": []
   },
   "outputs": [
    {
     "data": {
      "text/html": [
       "<div>\n",
       "<style scoped>\n",
       "    .dataframe tbody tr th:only-of-type {\n",
       "        vertical-align: middle;\n",
       "    }\n",
       "\n",
       "    .dataframe tbody tr th {\n",
       "        vertical-align: top;\n",
       "    }\n",
       "\n",
       "    .dataframe thead th {\n",
       "        text-align: right;\n",
       "    }\n",
       "</style>\n",
       "<table border=\"1\" class=\"dataframe\">\n",
       "  <thead>\n",
       "    <tr style=\"text-align: right;\">\n",
       "      <th></th>\n",
       "      <th>hours_used_post</th>\n",
       "      <th>hours_used_pre</th>\n",
       "      <th>hours_used_diff</th>\n",
       "      <th>ws_diff</th>\n",
       "    </tr>\n",
       "  </thead>\n",
       "  <tbody>\n",
       "    <tr>\n",
       "      <th>0</th>\n",
       "      <td>12.971739</td>\n",
       "      <td>17.720139</td>\n",
       "      <td>-4.748400</td>\n",
       "      <td>51.0</td>\n",
       "    </tr>\n",
       "    <tr>\n",
       "      <th>1</th>\n",
       "      <td>8.452778</td>\n",
       "      <td>12.800000</td>\n",
       "      <td>-4.347222</td>\n",
       "      <td>44.0</td>\n",
       "    </tr>\n",
       "    <tr>\n",
       "      <th>2</th>\n",
       "      <td>14.515152</td>\n",
       "      <td>13.412667</td>\n",
       "      <td>1.102485</td>\n",
       "      <td>36.0</td>\n",
       "    </tr>\n",
       "    <tr>\n",
       "      <th>3</th>\n",
       "      <td>14.062821</td>\n",
       "      <td>13.854545</td>\n",
       "      <td>0.208275</td>\n",
       "      <td>-36.0</td>\n",
       "    </tr>\n",
       "    <tr>\n",
       "      <th>4</th>\n",
       "      <td>10.811111</td>\n",
       "      <td>11.801333</td>\n",
       "      <td>-0.990222</td>\n",
       "      <td>7.0</td>\n",
       "    </tr>\n",
       "  </tbody>\n",
       "</table>\n",
       "</div>"
      ],
      "text/plain": [
       "   hours_used_post  hours_used_pre  hours_used_diff  ws_diff\n",
       "0        12.971739       17.720139        -4.748400     51.0\n",
       "1         8.452778       12.800000        -4.347222     44.0\n",
       "2        14.515152       13.412667         1.102485     36.0\n",
       "3        14.062821       13.854545         0.208275    -36.0\n",
       "4        10.811111       11.801333        -0.990222      7.0"
      ]
     },
     "execution_count": 4,
     "metadata": {},
     "output_type": "execute_result"
    }
   ],
   "source": [
    "scatter_df.columns = ['_'.join(col).strip() for col in scatter_df.columns.values[:-2]] + [\"hours_used_diff\", \"ws_diff\"]\n",
    "scatter_df.head()"
   ]
  },
  {
   "cell_type": "code",
   "execution_count": 5,
   "metadata": {
    "tags": []
   },
   "outputs": [],
   "source": [
    "import statsmodels.formula.api as smf\n",
    "results = smf.ols('hours_used_diff ~ 1 + ws_diff', data=scatter_df).fit()"
   ]
  },
  {
   "cell_type": "code",
   "execution_count": 6,
   "metadata": {
    "tags": []
   },
   "outputs": [
    {
     "name": "stdout",
     "output_type": "stream",
     "text": [
      "PearsonRResult(statistic=0.010450009091549178, pvalue=0.37122161783189506)\n"
     ]
    },
    {
     "name": "stderr",
     "output_type": "stream",
     "text": [
      "/tmp/ipykernel_3926/3890161648.py:1: DeprecationWarning: Please use `pearsonr` from the `scipy.stats` namespace, the `scipy.stats.stats` namespace is deprecated.\n",
      "  from scipy.stats.stats import pearsonr\n"
     ]
    }
   ],
   "source": [
    "from scipy.stats.stats import pearsonr\n",
    "print(pearsonr(scatter_df['hours_used_diff'], scatter_df['ws_diff']))"
   ]
  },
  {
   "cell_type": "code",
   "execution_count": 7,
   "metadata": {
    "tags": []
   },
   "outputs": [
    {
     "name": "stdout",
     "output_type": "stream",
     "text": [
      "[[1.         0.01045001]\n",
      " [0.01045001 1.        ]]\n"
     ]
    }
   ],
   "source": [
    "print(np.corrcoef(scatter_df['hours_used_diff'], scatter_df['ws_diff']))"
   ]
  },
  {
   "cell_type": "code",
   "execution_count": 8,
   "metadata": {
    "tags": []
   },
   "outputs": [
    {
     "name": "stdout",
     "output_type": "stream",
     "text": [
      "                            OLS Regression Results                            \n",
      "==============================================================================\n",
      "Dep. Variable:        hours_used_diff   R-squared:                       0.000\n",
      "Model:                            OLS   Adj. R-squared:                 -0.000\n",
      "Method:                 Least Squares   F-statistic:                    0.7997\n",
      "Date:                Fri, 02 Feb 2024   Prob (F-statistic):              0.371\n",
      "Time:                        14:07:47   Log-Likelihood:                -18819.\n",
      "No. Observations:                7324   AIC:                         3.764e+04\n",
      "Df Residuals:                    7322   BIC:                         3.766e+04\n",
      "Df Model:                           1                                         \n",
      "Covariance Type:            nonrobust                                         \n",
      "==============================================================================\n",
      "                 coef    std err          t      P>|t|      [0.025      0.975]\n",
      "------------------------------------------------------------------------------\n",
      "Intercept      0.0132      0.037      0.358      0.720      -0.059       0.086\n",
      "ws_diff        0.0014      0.002      0.894      0.371      -0.002       0.004\n",
      "==============================================================================\n",
      "Omnibus:                      617.396   Durbin-Watson:                   2.125\n",
      "Prob(Omnibus):                  0.000   Jarque-Bera (JB):             3131.796\n",
      "Skew:                           0.241   Prob(JB):                         0.00\n",
      "Kurtosis:                       6.167   Cond. No.                         23.6\n",
      "==============================================================================\n",
      "\n",
      "Notes:\n",
      "[1] Standard Errors assume that the covariance matrix of the errors is correctly specified.\n"
     ]
    }
   ],
   "source": [
    "print(results.summary())"
   ]
  },
  {
   "cell_type": "code",
   "execution_count": 9,
   "metadata": {
    "tags": []
   },
   "outputs": [],
   "source": [
    "grouped_df = pd.DataFrame({\n",
    "    \"day_type\": [\"pre\"] * len(scatter_df) + [\"post\"] * len(scatter_df),\n",
    "    \"hours_used\": scatter_df[\"hours_used_pre\"].tolist() + scatter_df[\"hours_used_post\"].tolist()\n",
    "})"
   ]
  },
  {
   "cell_type": "code",
   "execution_count": 10,
   "metadata": {
    "tags": []
   },
   "outputs": [
    {
     "data": {
      "image/png": "[encoded data removed]",
      "text/plain": [
       "<Figure size 700x500 with 1 Axes>"
      ]
     },
     "metadata": {},
     "output_type": "display_data"
    }
   ],
   "source": [
    "fig, ax = plt.subplots(figsize=(7, 5))\n",
    "sns.barplot(x='day_type', y='hours_used', data=grouped_df, ax=ax, order=['pre', 'post'], palette={'post': '#d77e2d', 'pre': '#3f6d32'})\n",
    "ax.set_ylabel('Average Time in Hours\\nBetween First and Last Activity');\n",
    "ax.xaxis.label.set_visible(False);\n",
    "ax.set_xticklabels(['Before Relocation', 'After Relocation']);\n",
    "ax.set_ylim((0, 24));\n",
    "ax.set_yticks(range(0, 25, 4));\n",
    "ax.grid(False);\n",
    "for item in ([ax.title, ax.xaxis.label, ax.yaxis.label] + ax.get_xticklabels() + ax.get_yticklabels()):\n",
    "    item.set_fontsize(18);\n",
    "plt.tight_layout()\n",
    "plt.savefig('../output/fig17a.pdf', dpi=300)"
   ]
  },
  {
   "cell_type": "code",
   "execution_count": 11,
   "metadata": {
    "tags": []
   },
   "outputs": [
    {
     "name": "stdout",
     "output_type": "stream",
     "text": [
      "POST: 14.176213454139239\n",
      "PRE: 14.162665269589873\n"
     ]
    }
   ],
   "source": [
    "print ('POST:', scatter_df['hours_used_post'].mean())\n",
    "print ('PRE:', scatter_df['hours_used_pre'].mean())"
   ]
  },
  {
   "cell_type": "code",
   "execution_count": 12,
   "metadata": {
    "tags": []
   },
   "outputs": [
    {
     "name": "stdout",
     "output_type": "stream",
     "text": [
      "TtestResult(statistic=0.24398413793124876, pvalue=0.8072465223187664, df=14646.0)\n"
     ]
    }
   ],
   "source": [
    "from scipy.stats import ttest_ind, ttest_ind_from_stats\n",
    "print(ttest_ind(scatter_df['hours_used_post'], scatter_df['hours_used_pre']))"
   ]
  },
  {
   "cell_type": "code",
   "execution_count": null,
   "metadata": {},
   "outputs": [],
   "source": []
  }
 ],
 "metadata": {
  "kernelspec": {
   "display_name": "Python 3 (ipykernel)",
   "language": "python",
   "name": "python3"
  },
  "language_info": {
   "codemirror_mode": {
    "name": "ipython",
    "version": 3
   },
   "file_extension": ".py",
   "mimetype": "text/x-python",
   "name": "python",
   "nbconvert_exporter": "python",
   "pygments_lexer": "ipython3",
   "version": "3.11.5"
  }
 },
 "nbformat": 4,
 "nbformat_minor": 4
}
