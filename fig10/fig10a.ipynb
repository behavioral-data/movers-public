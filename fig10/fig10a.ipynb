{
 "cells": [
  {
   "cell_type": "code",
   "execution_count": 2,
   "metadata": {
    "tags": []
   },
   "outputs": [
    {
     "name": "stdout",
     "output_type": "stream",
     "text": [
      "The autoreload extension is already loaded. To reload it, use:\n",
      "  %reload_ext autoreload\n"
     ]
    }
   ],
   "source": [
    "%matplotlib inline\n",
    "%load_ext autoreload\n",
    "%autoreload 2\n",
    "\n",
    "import numpy as np\n",
    "import pandas as pd\n",
    "import datetime\n",
    "import matplotlib\n",
    "import matplotlib.pyplot as plt\n",
    "import seaborn as sns\n",
    "sns.set_style(\"whitegrid\")\n",
    "\n",
    "def generate_default_plot_env():\n",
    "    sns.set(font_scale=1.4, style=\"whitegrid\")\n",
    "    matplotlib.rcParams['pdf.fonttype'] = 42\n",
    "    matplotlib.rcParams['ps.fonttype'] = 42\n",
    "    matplotlib.rc('font', family='sans-serif') \n",
    "    matplotlib.rc('font', serif='Helvetica Neue') \n",
    "    matplotlib.rc('text', usetex='false') \n",
    "    matplotlib.rcParams.update({'font.size': 22})\n",
    "    \n",
    "    plt.rcParams['pdf.fonttype'] = 42\n",
    "    plt.rcParams['ps.fonttype'] = 42\n",
    "    plt.rc('font', family='sans-serif') \n",
    "    plt.rc('font', serif='Helvetica Neue') \n",
    "    plt.rc('text', usetex='false') \n",
    "    plt.rcParams.update({'font.size': 22})\n",
    "\n",
    "# pd.set_option('display.height', 500)\n",
    "pd.set_option('display.max_rows', 500)\n",
    "pd.set_option('display.max_columns', 500)\n",
    "pd.set_option('display.width', 200)"
   ]
  },
  {
   "cell_type": "code",
   "execution_count": 3,
   "metadata": {
    "tags": []
   },
   "outputs": [],
   "source": [
    "generate_default_plot_env()"
   ]
  },
  {
   "cell_type": "code",
   "execution_count": 4,
   "metadata": {
    "tags": []
   },
   "outputs": [],
   "source": [
    "data_xls = pd.read_csv(\"../data/us_mobility.csv\")\n",
    "mover_df = pd.read_csv('../data/mover_popstats.csv')"
   ]
  },
  {
   "cell_type": "code",
   "execution_count": 6,
   "metadata": {
    "tags": []
   },
   "outputs": [
    {
     "name": "stdout",
     "output_type": "stream",
     "text": [
      "                     user_profile_age  user_profile_bmi  json_steps\n",
      "user_profile_gender                                                \n",
      "female                           1646              1657        1732\n",
      "male                             1669              1686        1748\n",
      "1732.0 1748.0\n"
     ]
    }
   ],
   "source": [
    "gender_counts_df = mover_df.groupby('user_profile_gender').count().head()\n",
    "print(gender_counts_df)\n",
    "\n",
    "azumio_males = float(gender_counts_df.loc['male', 'json_steps'])\n",
    "azumio_females = float(gender_counts_df.loc['female', 'json_steps'])\n",
    "\n",
    "print(azumio_females, azumio_males)"
   ]
  },
  {
   "cell_type": "code",
   "execution_count": 7,
   "metadata": {
    "tags": []
   },
   "outputs": [],
   "source": [
    "azumio_sum = azumio_males + azumio_females\n",
    "us_sum = 16776000. + 17080000.\n",
    "male_female_df = pd.DataFrame({'Source':      ['Our Data (Movers)', 'Our Data (Movers)', 'US Census (Movers)', 'US Census (Movers)'],\n",
    "              'Fraction': [azumio_males / azumio_sum, azumio_females / azumio_sum, 16776000. / us_sum, 17080000. / us_sum],\n",
    "              'Gender':   ['Male', 'Female', 'Male', 'Female']})"
   ]
  },
  {
   "cell_type": "code",
   "execution_count": 8,
   "metadata": {
    "tags": []
   },
   "outputs": [
    {
     "data": {
      "text/html": [
       "<div>\n",
       "<style scoped>\n",
       "    .dataframe tbody tr th:only-of-type {\n",
       "        vertical-align: middle;\n",
       "    }\n",
       "\n",
       "    .dataframe tbody tr th {\n",
       "        vertical-align: top;\n",
       "    }\n",
       "\n",
       "    .dataframe thead th {\n",
       "        text-align: right;\n",
       "    }\n",
       "</style>\n",
       "<table border=\"1\" class=\"dataframe\">\n",
       "  <thead>\n",
       "    <tr style=\"text-align: right;\">\n",
       "      <th></th>\n",
       "      <th>Source</th>\n",
       "      <th>Fraction</th>\n",
       "      <th>Gender</th>\n",
       "    </tr>\n",
       "  </thead>\n",
       "  <tbody>\n",
       "    <tr>\n",
       "      <th>0</th>\n",
       "      <td>Our Data (Movers)</td>\n",
       "      <td>0.502299</td>\n",
       "      <td>Male</td>\n",
       "    </tr>\n",
       "    <tr>\n",
       "      <th>1</th>\n",
       "      <td>Our Data (Movers)</td>\n",
       "      <td>0.497701</td>\n",
       "      <td>Female</td>\n",
       "    </tr>\n",
       "    <tr>\n",
       "      <th>2</th>\n",
       "      <td>US Census (Movers)</td>\n",
       "      <td>0.495510</td>\n",
       "      <td>Male</td>\n",
       "    </tr>\n",
       "    <tr>\n",
       "      <th>3</th>\n",
       "      <td>US Census (Movers)</td>\n",
       "      <td>0.504490</td>\n",
       "      <td>Female</td>\n",
       "    </tr>\n",
       "  </tbody>\n",
       "</table>\n",
       "</div>"
      ],
      "text/plain": [
       "               Source  Fraction  Gender\n",
       "0   Our Data (Movers)  0.502299    Male\n",
       "1   Our Data (Movers)  0.497701  Female\n",
       "2  US Census (Movers)  0.495510    Male\n",
       "3  US Census (Movers)  0.504490  Female"
      ]
     },
     "execution_count": 8,
     "metadata": {},
     "output_type": "execute_result"
    }
   ],
   "source": [
    "male_female_df.head()"
   ]
  },
  {
   "cell_type": "code",
   "execution_count": 11,
   "metadata": {
    "tags": []
   },
   "outputs": [
    {
     "name": "stdout",
     "output_type": "stream",
     "text": [
      "% Female Azumio Movers: 0.49770114942528737\n",
      "% Female US Movers: 0.5044896030245747\n",
      "Z-test for difference in proportions of females (Azumio Movers vs US Movers): 0.4231816799633067\n"
     ]
    }
   ],
   "source": [
    "from statsmodels.stats.proportion import proportions_ztest\n",
    "counts = np.array([azumio_females, 17080000.])\n",
    "nobs = np.array([azumio_sum, us_sum])\n",
    "stat, pval = proportions_ztest(counts, nobs)\n",
    "print('% Female Azumio Movers:', azumio_females/float(azumio_sum))\n",
    "print('% Female US Movers:', 17080000./us_sum)\n",
    "print('Z-test for difference in proportions of females (Azumio Movers vs US Movers):', pval)"
   ]
  },
  {
   "cell_type": "code",
   "execution_count": 12,
   "metadata": {
    "tags": []
   },
   "outputs": [
    {
     "data": {
      "image/png": "[encoded data removed]",
      "text/plain": [
       "<Figure size 500x500 with 1 Axes>"
      ]
     },
     "metadata": {},
     "output_type": "display_data"
    }
   ],
   "source": [
    "f, ax = plt.subplots(figsize=(5, 5))\n",
    "\n",
    "sns.barplot(data=male_female_df, x='Gender', y='Fraction', hue='Source', ax=ax,\n",
    "            palette=['#590059', '#bd9fd7']);\n",
    "\n",
    "plt.ylabel('Fraction of Population');\n",
    "plt.ylim((0.0, 1.0))\n",
    "plt.yticks([0.0, 0.25, 0.5, 0.75, 1.0])\n",
    "plt.grid(False)\n",
    "\n",
    "plt.legend()\n",
    "plt.tight_layout()\n",
    "plt.savefig('../output/fig10a.pdf', dpi=300)"
   ]
  },
  {
   "cell_type": "code",
   "execution_count": null,
   "metadata": {},
   "outputs": [],
   "source": []
  }
 ],
 "metadata": {
  "kernelspec": {
   "display_name": "Python 3 (ipykernel)",
   "language": "python",
   "name": "python3"
  },
  "language_info": {
   "codemirror_mode": {
    "name": "ipython",
    "version": 3
   },
   "file_extension": ".py",
   "mimetype": "text/x-python",
   "name": "python",
   "nbconvert_exporter": "python",
   "pygments_lexer": "ipython3",
   "version": "3.11.5"
  }
 },
 "nbformat": 4,
 "nbformat_minor": 4
}
